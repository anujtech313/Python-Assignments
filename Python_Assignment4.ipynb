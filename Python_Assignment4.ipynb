{
  "nbformat": 4,
  "nbformat_minor": 0,
  "metadata": {
    "colab": {
      "provenance": []
    },
    "kernelspec": {
      "name": "python3",
      "display_name": "Python 3"
    },
    "language_info": {
      "name": "python"
    }
  },
  "cells": [
    {
      "cell_type": "code",
      "execution_count": 1,
      "metadata": {
        "colab": {
          "base_uri": "https://localhost:8080/"
        },
        "id": "JoFc2jgp-Gu6",
        "outputId": "ef4647df-2ab5-46e3-f1ec-eaf6e21fa316"
      },
      "outputs": [
        {
          "output_type": "execute_result",
          "data": {
            "text/plain": [
              "[1, 2, 3, 4, 5]"
            ]
          },
          "metadata": {},
          "execution_count": 1
        }
      ],
      "source": [
        "#1. What exactly is []?\n",
        "# [] THIS is basically used to store elements seperated by commas. A list is used to store elements in the form of array\n",
        "# Elements canbe accessed via indexing\n",
        "\n",
        "a = [1,2,3,4,5]\n",
        "a"
      ]
    },
    {
      "cell_type": "code",
      "source": [
        "#2. In a list of values stored in a variable called spam, how would you assign the value 'hello' as the third value? (Assume [2, 4, 6, 8, 10] are in spam.)\n",
        "a = [2,3,4,5,6,7,8]\n",
        "a[2] = 'hello'\n",
        "a"
      ],
      "metadata": {
        "colab": {
          "base_uri": "https://localhost:8080/"
        },
        "id": "2C0Am3QLAH_n",
        "outputId": "806a5150-ab39-4e99-8981-c49a6fb77668"
      },
      "execution_count": 2,
      "outputs": [
        {
          "output_type": "execute_result",
          "data": {
            "text/plain": [
              "[2, 3, 'hello', 5, 6, 7, 8]"
            ]
          },
          "metadata": {},
          "execution_count": 2
        }
      ]
    },
    {
      "cell_type": "markdown",
      "source": [
        "Let's pretend the spam includes the list ['a', 'b', 'c', 'd'] for the next three queries."
      ],
      "metadata": {
        "id": "Y1XjlrE7Bpmx"
      }
    },
    {
      "cell_type": "code",
      "source": [
        "# 3. What is the value of spam[int(int('3' * 2) / 11)]?\n",
        "\n",
        "spam = ['a', 'b', 'c', 'd']\n",
        "spam[int(int('3' * 2) / 11)]\n",
        "d"
      ],
      "metadata": {
        "colab": {
          "base_uri": "https://localhost:8080/",
          "height": 35
        },
        "id": "Xxt7ozxxBl4f",
        "outputId": "7c008d1a-6391-430d-9df9-d3aed3228f6c"
      },
      "execution_count": 11,
      "outputs": [
        {
          "output_type": "execute_result",
          "data": {
            "text/plain": [
              "'d'"
            ],
            "application/vnd.google.colaboratory.intrinsic+json": {
              "type": "string"
            }
          },
          "metadata": {},
          "execution_count": 11
        }
      ]
    },
    {
      "cell_type": "code",
      "source": [
        "# 4. What is the value of spam[-1]?\n",
        "spam[-1]"
      ],
      "metadata": {
        "colab": {
          "base_uri": "https://localhost:8080/",
          "height": 35
        },
        "id": "1dEphW0nC0Iw",
        "outputId": "bc99bfbe-a445-4556-e187-14998c746263"
      },
      "execution_count": 14,
      "outputs": [
        {
          "output_type": "execute_result",
          "data": {
            "text/plain": [
              "'d'"
            ],
            "application/vnd.google.colaboratory.intrinsic+json": {
              "type": "string"
            }
          },
          "metadata": {},
          "execution_count": 14
        }
      ]
    },
    {
      "cell_type": "code",
      "source": [
        "#5. What is the value of spam[:2]?\n",
        "spam[-2]"
      ],
      "metadata": {
        "colab": {
          "base_uri": "https://localhost:8080/",
          "height": 35
        },
        "id": "SiK17moWDbcQ",
        "outputId": "f2eb1889-387e-4db9-e1fd-190dae27f5bf"
      },
      "execution_count": 15,
      "outputs": [
        {
          "output_type": "execute_result",
          "data": {
            "text/plain": [
              "'c'"
            ],
            "application/vnd.google.colaboratory.intrinsic+json": {
              "type": "string"
            }
          },
          "metadata": {},
          "execution_count": 15
        }
      ]
    },
    {
      "cell_type": "markdown",
      "source": [
        "Let's pretend bacon has the list [3.14, 'cat,' 11, 'cat,' True] for the next three questions."
      ],
      "metadata": {
        "id": "kNLa920qDpHx"
      }
    },
    {
      "cell_type": "code",
      "source": [
        "#6. What is the value of bacon.index('cat')?\n",
        "\n",
        "bacon =  [3.14, 'cat', 11, 'cat', True]\n",
        "a = bacon.index('cat')\n",
        "print(\"Index of bacon.index'cat' is:\", a)"
      ],
      "metadata": {
        "colab": {
          "base_uri": "https://localhost:8080/"
        },
        "id": "KUyVtJz1DhqR",
        "outputId": "3b3d831f-5513-4dd4-8d72-90cded9a2ca5"
      },
      "execution_count": 18,
      "outputs": [
        {
          "output_type": "stream",
          "name": "stdout",
          "text": [
            "Index of bacon.index'cat' is: 1\n"
          ]
        }
      ]
    },
    {
      "cell_type": "code",
      "source": [
        "#7. How does bacon.append(99) change the look of the list value in bacon?\n",
        "\n",
        "bacon.append(99)\n",
        "print(\"value of list bacon after appending 99 looks like:\", bacon)"
      ],
      "metadata": {
        "colab": {
          "base_uri": "https://localhost:8080/"
        },
        "id": "yElNh9X_ERyf",
        "outputId": "f88b85d0-8dc7-4638-88d3-b648eb5502d5"
      },
      "execution_count": 19,
      "outputs": [
        {
          "output_type": "stream",
          "name": "stdout",
          "text": [
            "value of list bacon after appending 99 looks like: [3.14, 'cat', 11, 'cat', True, 99]\n"
          ]
        }
      ]
    },
    {
      "cell_type": "code",
      "source": [
        "#8. How does bacon.remove('cat') change the look of the list in bacon?\n",
        "\n",
        "bacon.remove('cat')\n",
        "print(\"value of list after removing 'cat' looks like:\", bacon)\n"
      ],
      "metadata": {
        "colab": {
          "base_uri": "https://localhost:8080/"
        },
        "id": "_DNnz1FvEpZQ",
        "outputId": "299b1241-00ed-498e-cd78-2bdf7eff71a4"
      },
      "execution_count": 20,
      "outputs": [
        {
          "output_type": "stream",
          "name": "stdout",
          "text": [
            "value of list after removing 'cat' looks like: [3.14, 11, 'cat', True, 99]\n"
          ]
        }
      ]
    },
    {
      "cell_type": "code",
      "source": [
        "#9. What are the list concatenation and list replication operators?\n",
        "#Answer - List concatenation is appending a list with another denoted by +, whereas, replication of list is replicating the list a number of times\n",
        "#list concatenation\n",
        "a = [ 1,3,4,5,6]\n",
        "b = [7,8,9,10,11]\n",
        "c = a+b\n",
        "print(\"List concatenation\", c)\n",
        "# list\n",
        "d = a * 3\n",
        "print(\"List replication is:\",d)"
      ],
      "metadata": {
        "colab": {
          "base_uri": "https://localhost:8080/"
        },
        "id": "KEu7K2ryFP-g",
        "outputId": "201df7a8-e214-4c21-cc05-8dfdd8472f57"
      },
      "execution_count": 25,
      "outputs": [
        {
          "output_type": "stream",
          "name": "stdout",
          "text": [
            "List concatenation [1, 3, 4, 5, 6, 7, 8, 9, 10, 11]\n",
            "List replication is: [1, 3, 4, 5, 6, 1, 3, 4, 5, 6, 1, 3, 4, 5, 6]\n"
          ]
        }
      ]
    },
    {
      "cell_type": "code",
      "source": [
        "#10. What is difference between the list methods append() and insert()?\n",
        "# Answer - append() allows us to append some elements to the end of the list. insert() allows us to insert an element within a specific index of a list.\n",
        "#appending\n",
        "d = [3,4,5,6,7]\n",
        "d.append(8)\n",
        "d\n",
        "#insert()\n",
        "d[2]=9 # will insert 9 at 3rd position in list\n",
        "d\n",
        "# or we can use\n",
        "d.insert(1,2) # insert 2 at position1\n",
        "d"
      ],
      "metadata": {
        "colab": {
          "base_uri": "https://localhost:8080/"
        },
        "id": "8imAYmHdIb1X",
        "outputId": "6284f561-1938-4189-cb2c-bf383aee19ee"
      },
      "execution_count": 33,
      "outputs": [
        {
          "output_type": "execute_result",
          "data": {
            "text/plain": [
              "[3, 2, 4, 9, 6, 7, 8]"
            ]
          },
          "metadata": {},
          "execution_count": 33
        }
      ]
    },
    {
      "cell_type": "code",
      "source": [
        "#11. What are the two methods for removing items from a list?\n",
        "#Answer - remove() will remove very first element from the list matching with the given element. pop() will remove an element of the given index. clear() will remove all the elements\n",
        "#remove()\n",
        "e = [2,3,3,4,5,6,7,8]\n",
        "e.remove(3)\n",
        "e\n",
        "#pop() # removes elements from the given index 2\n",
        "e.pop(2)\n",
        "e\n"
      ],
      "metadata": {
        "colab": {
          "base_uri": "https://localhost:8080/"
        },
        "id": "a9SKAyD5JD33",
        "outputId": "e9aaf3b1-7f79-4f6c-8c16-6d30ef365715"
      },
      "execution_count": 36,
      "outputs": [
        {
          "output_type": "execute_result",
          "data": {
            "text/plain": [
              "[2, 3, 5, 6, 7, 8]"
            ]
          },
          "metadata": {},
          "execution_count": 36
        }
      ]
    },
    {
      "cell_type": "code",
      "source": [
        "#12. Describe how list values and string values are identical.\n",
        "#Answer String values consist of list which consist of elements of characters. List values consist of elements of all the data type\n"
      ],
      "metadata": {
        "id": "KhlcTegMJq2P"
      },
      "execution_count": null,
      "outputs": []
    },
    {
      "cell_type": "code",
      "source": [
        "#13. What's the difference between tuples and lists?\n",
        "#Answer - List in python are dynamic whereas, tuples are static in nature which means list can be modified whereas tuples cant be modified. Tuples are fast due to static nature. list are denoted by[ ] and tuples by ()\n"
      ],
      "metadata": {
        "id": "3lGyH9xsMjov"
      },
      "execution_count": 37,
      "outputs": []
    },
    {
      "cell_type": "code",
      "source": [
        "#14. How do you type a tuple value that only contains the integer 42?\n",
        "a = (42)\n",
        "a\n"
      ],
      "metadata": {
        "colab": {
          "base_uri": "https://localhost:8080/"
        },
        "id": "wkSFMmzgNVif",
        "outputId": "35657022-07d2-44a4-a661-9bc32e658f1f"
      },
      "execution_count": 41,
      "outputs": [
        {
          "output_type": "execute_result",
          "data": {
            "text/plain": [
              "42"
            ]
          },
          "metadata": {},
          "execution_count": 41
        }
      ]
    },
    {
      "cell_type": "code",
      "source": [
        "#15How do you get a list value's tuple form? How do you get a tuple value's list form?\n",
        "#List - tuple\n",
        "a = [2,3,4,5,6,7]\n",
        "b = tuple(a)\n",
        "print(\"tuple value of the list is:\",b)\n",
        "\n",
        "#tuple - list\n",
        "a = (3,4,5,6,7,8)\n",
        "b = list(a)\n",
        "print(\"list value of the tuple is:\", b)"
      ],
      "metadata": {
        "colab": {
          "base_uri": "https://localhost:8080/"
        },
        "id": "rZka_CFGNcof",
        "outputId": "6cc8d5c9-36dd-4175-efe1-70cc6e1cacf4"
      },
      "execution_count": 44,
      "outputs": [
        {
          "output_type": "stream",
          "name": "stdout",
          "text": [
            "tuple value of the list is: (2, 3, 4, 5, 6, 7)\n",
            "list value of the tuple is: [3, 4, 5, 6, 7, 8]\n"
          ]
        }
      ]
    },
    {
      "cell_type": "code",
      "source": [
        "#16. Variables that \"contain\" list values are not necessarily lists themselves. Instead, what do they contain?\n",
        "# Answer - Variables will contain references to list values rather than list values themselves. \n",
        "#But for strings and integer values, variables simply contain the string or integer value. \n",
        "#Python uses references whenever variables must store values of mutable data types, such as lists or dictionaries.\n",
        "# For values of immutable data types such as strings, integers, or tuples, Python variables will store the value itself."
      ],
      "metadata": {
        "id": "i5saGEBQO7RP"
      },
      "execution_count": null,
      "outputs": []
    },
    {
      "cell_type": "code",
      "source": [
        "#17. How do you distinguish between copy.copy() and copy.deepcopy()?\n",
        "# In order to make these copies, we use the copy module. \n",
        "# The copy() returns a shallow copy of the list, and deepcopy() returns a deep copy of the list. As you can see that both have the same value but have different IDs.\n",
        "import copy\n",
        " \n",
        "# initializing list 1\n",
        "li1 = [1, 2, [3, 5], 4]\n",
        " \n",
        "# using copy for shallow copy\n",
        "li2 = copy.copy(li1)\n",
        "print(\"li2 ID: \", id(li2), \"Value: \", li2)\n",
        "# using deepcopy for deepcopy\n",
        "li3 = copy.deepcopy(li1)\n",
        "print(\"li3 ID: \", id(li3), \"Value: \", li3)"
      ],
      "metadata": {
        "colab": {
          "base_uri": "https://localhost:8080/"
        },
        "id": "jx-M6mrUPy47",
        "outputId": "2bdf8307-1b77-4e66-c18a-ddcb140c72fc"
      },
      "execution_count": 45,
      "outputs": [
        {
          "output_type": "stream",
          "name": "stdout",
          "text": [
            "li2 ID:  140214662624112 Value:  [1, 2, [3, 5], 4]\n",
            "li3 ID:  140214662553840 Value:  [1, 2, [3, 5], 4]\n"
          ]
        }
      ]
    }
  ]
}