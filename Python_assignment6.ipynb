{
  "nbformat": 4,
  "nbformat_minor": 0,
  "metadata": {
    "colab": {
      "provenance": []
    },
    "kernelspec": {
      "name": "python3",
      "display_name": "Python 3"
    },
    "language_info": {
      "name": "python"
    }
  },
  "cells": [
    {
      "cell_type": "markdown",
      "source": [
        "1. What are escape characters, and how do you use them?\n",
        "\n",
        "To insert characters that are illegal in a string we use a escape character.\n",
        "For example - It allows to use a double quotes in a text when it is normally not allowed"
      ],
      "metadata": {
        "id": "Ecx72rycwGXB"
      }
    },
    {
      "cell_type": "markdown",
      "source": [
        "2. What do the escape characters n and t stand for?\n",
        "\n",
        "They are used to express certain WhiteSpace Characters\n",
        "\\t is used as a tab and \\n is used as a whiteline"
      ],
      "metadata": {
        "id": "WKvgAPDiwzD6"
      }
    },
    {
      "cell_type": "markdown",
      "source": [
        "3. What is the way to include backslash characters in a string?"
      ],
      "metadata": {
        "id": "SO8H3bAbyMUb"
      }
    },
    {
      "cell_type": "code",
      "source": [
        "print('Hello,\\n World')"
      ],
      "metadata": {
        "colab": {
          "base_uri": "https://localhost:8080/"
        },
        "id": "RLUN5MVwwJfp",
        "outputId": "0da1c81e-46f5-46b1-c73a-fa530cb46a0b"
      },
      "execution_count": 1,
      "outputs": [
        {
          "output_type": "stream",
          "name": "stdout",
          "text": [
            "Hello,\n",
            " World\n"
          ]
        }
      ]
    },
    {
      "cell_type": "markdown",
      "source": [
        "4. The string &quot;Howl&#39;s Moving Castle&quot; is a correct value. Why isn&#39;t the single quote character in the\n",
        "word Howl&#39;s not escaped a problem?\n",
        "\n",
        "Answer - Because python considers anything inside a \" \" as a string values"
      ],
      "metadata": {
        "id": "guGEkXc5ytIZ"
      }
    },
    {
      "cell_type": "markdown",
      "source": [
        "5. How do you write a string of newlines if you don&#39;t want to use the n character?"
      ],
      "metadata": {
        "id": "s7NLQjWx1Gqj"
      }
    },
    {
      "cell_type": "code",
      "source": [
        "#We can use the default way by printing on new lines.\n",
        "\n",
        "print(\"Hello World\")\n",
        "print(\"Hello world\")\n",
        "\n"
      ],
      "metadata": {
        "colab": {
          "base_uri": "https://localhost:8080/"
        },
        "id": "bWSdopCqyrRU",
        "outputId": "778da10e-5e3f-4657-9026-ffcb6edc8de7"
      },
      "execution_count": 4,
      "outputs": [
        {
          "output_type": "stream",
          "name": "stdout",
          "text": [
            "Hello World\n",
            "Hello world\n"
          ]
        }
      ]
    },
    {
      "cell_type": "markdown",
      "source": [
        "6. What are the values of the given expressions?\n",
        "&#39;Hello, world!&#39;[1]\n",
        "&#39;Hello, world!&#39;[0:5]\n",
        "&#39;Hello, world!&#39;[:5]\n",
        "&#39;Hello, world!&#39;[3:]"
      ],
      "metadata": {
        "id": "nhjKYAqO2jzL"
      }
    },
    {
      "cell_type": "code",
      "source": [
        "'Hello, world!'[1] \n"
      ],
      "metadata": {
        "colab": {
          "base_uri": "https://localhost:8080/",
          "height": 35
        },
        "id": "jQcw_Dw02bhB",
        "outputId": "65e3acaf-e59e-43cd-992b-eb200ec729be"
      },
      "execution_count": 13,
      "outputs": [
        {
          "output_type": "execute_result",
          "data": {
            "text/plain": [
              "'e'"
            ],
            "application/vnd.google.colaboratory.intrinsic+json": {
              "type": "string"
            }
          },
          "metadata": {},
          "execution_count": 13
        }
      ]
    },
    {
      "cell_type": "code",
      "source": [
        "'Hello, world!'[0:5]"
      ],
      "metadata": {
        "colab": {
          "base_uri": "https://localhost:8080/",
          "height": 35
        },
        "id": "XMwC21Zv3hCc",
        "outputId": "55b329a9-4fb6-49b8-ae67-09e82cf18ad8"
      },
      "execution_count": 10,
      "outputs": [
        {
          "output_type": "execute_result",
          "data": {
            "text/plain": [
              "'Hello'"
            ],
            "application/vnd.google.colaboratory.intrinsic+json": {
              "type": "string"
            }
          },
          "metadata": {},
          "execution_count": 10
        }
      ]
    },
    {
      "cell_type": "code",
      "source": [
        "'Hello, world!'[:5]"
      ],
      "metadata": {
        "colab": {
          "base_uri": "https://localhost:8080/",
          "height": 35
        },
        "id": "I51OMVkr3jCL",
        "outputId": "64a29251-ab6f-4c66-a386-26545470713a"
      },
      "execution_count": 11,
      "outputs": [
        {
          "output_type": "execute_result",
          "data": {
            "text/plain": [
              "'Hello'"
            ],
            "application/vnd.google.colaboratory.intrinsic+json": {
              "type": "string"
            }
          },
          "metadata": {},
          "execution_count": 11
        }
      ]
    },
    {
      "cell_type": "code",
      "source": [
        "'Hello, world!'[3:]"
      ],
      "metadata": {
        "colab": {
          "base_uri": "https://localhost:8080/",
          "height": 35
        },
        "id": "D3j964qx3llo",
        "outputId": "b3e32a52-e30f-4c62-b10d-2e35f3952331"
      },
      "execution_count": 12,
      "outputs": [
        {
          "output_type": "execute_result",
          "data": {
            "text/plain": [
              "'lo, world!'"
            ],
            "application/vnd.google.colaboratory.intrinsic+json": {
              "type": "string"
            }
          },
          "metadata": {},
          "execution_count": 12
        }
      ]
    },
    {
      "cell_type": "markdown",
      "source": [
        "7. What are the values of the following expressions?\n",
        "&#39;Hello&#39;.upper()\n",
        "&#39;Hello&#39;.upper().isupper()\n",
        "&#39;Hello&#39;.upper().lower()"
      ],
      "metadata": {
        "id": "BxCMpP2A3GCi"
      }
    },
    {
      "cell_type": "code",
      "source": [
        " 'Hello'.upper() "
      ],
      "metadata": {
        "colab": {
          "base_uri": "https://localhost:8080/",
          "height": 35
        },
        "id": "5NwqpdbM3ESQ",
        "outputId": "a951442e-77c7-4279-e48f-1b7f5ab5b14b"
      },
      "execution_count": 7,
      "outputs": [
        {
          "output_type": "execute_result",
          "data": {
            "text/plain": [
              "'HELLO'"
            ],
            "application/vnd.google.colaboratory.intrinsic+json": {
              "type": "string"
            }
          },
          "metadata": {},
          "execution_count": 7
        }
      ]
    },
    {
      "cell_type": "code",
      "source": [
        "'Hello'.upper().isupper()"
      ],
      "metadata": {
        "colab": {
          "base_uri": "https://localhost:8080/"
        },
        "id": "Jq5t0SPO2wra",
        "outputId": "368ccaad-da37-4a9e-809d-69e08f49d5cd"
      },
      "execution_count": 14,
      "outputs": [
        {
          "output_type": "execute_result",
          "data": {
            "text/plain": [
              "True"
            ]
          },
          "metadata": {},
          "execution_count": 14
        }
      ]
    },
    {
      "cell_type": "code",
      "source": [
        "'Hello'.upper().lower()"
      ],
      "metadata": {
        "colab": {
          "base_uri": "https://localhost:8080/",
          "height": 35
        },
        "id": "7zRd-OSn3vNo",
        "outputId": "458f9326-e697-474c-b5b9-b9cc97bbf9e3"
      },
      "execution_count": 15,
      "outputs": [
        {
          "output_type": "execute_result",
          "data": {
            "text/plain": [
              "'hello'"
            ],
            "application/vnd.google.colaboratory.intrinsic+json": {
              "type": "string"
            }
          },
          "metadata": {},
          "execution_count": 15
        }
      ]
    },
    {
      "cell_type": "markdown",
      "source": [
        "8. What are the values of the following expressions?\n",
        "&#39;Remember, remember, the fifth of July.&#39;.split()\n",
        "&#39;-&#39;.join(&#39;There can only one.&#39;.split())"
      ],
      "metadata": {
        "id": "eBB3bv204Cm0"
      }
    },
    {
      "cell_type": "code",
      "source": [
        " 'Remember, remember, the fifth of July.'.split() "
      ],
      "metadata": {
        "colab": {
          "base_uri": "https://localhost:8080/"
        },
        "id": "q0fP28A139bx",
        "outputId": "638fdb0b-ffa7-4571-d226-34077fa5c9b6"
      },
      "execution_count": 17,
      "outputs": [
        {
          "output_type": "execute_result",
          "data": {
            "text/plain": [
              "['Remember,', 'remember,', 'the', 'fifth', 'of', 'July.']"
            ]
          },
          "metadata": {},
          "execution_count": 17
        }
      ]
    },
    {
      "cell_type": "code",
      "source": [
        "'-'.join('There can only one.'.split())"
      ],
      "metadata": {
        "colab": {
          "base_uri": "https://localhost:8080/",
          "height": 35
        },
        "id": "Ls8Gizx34QuK",
        "outputId": "1ce7009f-5119-4907-fa67-1e20d873ecfc"
      },
      "execution_count": 18,
      "outputs": [
        {
          "output_type": "execute_result",
          "data": {
            "text/plain": [
              "'There-can-only-one.'"
            ],
            "application/vnd.google.colaboratory.intrinsic+json": {
              "type": "string"
            }
          },
          "metadata": {},
          "execution_count": 18
        }
      ]
    },
    {
      "cell_type": "markdown",
      "source": [
        "9. What are the methods for right-justifying, left-justifying, and centering a string?\n"
      ],
      "metadata": {
        "id": "ioNfv1Uu4git"
      }
    },
    {
      "cell_type": "code",
      "source": [
        "# str.ljust(s, width[, fillchar])\n",
        "#str.rjust(s, width[, fillchar])\n",
        "#str.center(s, width[, fillchar])\n",
        "\n",
        "# Center\n",
        "\n",
        "  \n",
        "cstr = \"I love Programming\"\n",
        "  \n",
        "# Printing the original string\n",
        "print (\"The original string is : \\n\", cstr, \"\\n\")\n",
        "  \n",
        "# Printing the center aligned string \n",
        "print (\"The center aligned string is : \")\n",
        "print (cstr.center(40), \"\\n\")\n",
        "  \n",
        "# Printing the center aligned \n",
        "# string with fillchr\n",
        "print (\"Center aligned string with fillchr: \")\n",
        "print (cstr.center(40, '#'))"
      ],
      "metadata": {
        "colab": {
          "base_uri": "https://localhost:8080/"
        },
        "id": "bqImH__v4a6a",
        "outputId": "da8d40aa-42f3-4a6b-a1d2-956870cc04dd"
      },
      "execution_count": 19,
      "outputs": [
        {
          "output_type": "stream",
          "name": "stdout",
          "text": [
            "The original string is : \n",
            " I love Programming \n",
            "\n",
            "The center aligned string is : \n",
            "           I love Programming            \n",
            "\n",
            "Center aligned string with fillchr: \n",
            "###########I love Programming###########\n"
          ]
        }
      ]
    },
    {
      "cell_type": "code",
      "source": [
        "\n",
        "# ljust\n",
        "\n",
        "lstr = \"I love programming\"\n",
        "  \n",
        "# Printing the original string\n",
        "print (\"The original string is : \\n\", lstr, \"\\n\")\n",
        "  \n",
        "# Printing the left aligned \n",
        "# string with \"-\" padding \n",
        "print (\"The left aligned string is : \")\n",
        "print (lstr.ljust(40, '-'))"
      ],
      "metadata": {
        "colab": {
          "base_uri": "https://localhost:8080/"
        },
        "id": "Z4KQdv6z5mcF",
        "outputId": "6e73528b-7af6-499e-aef7-22855f9ce92b"
      },
      "execution_count": 20,
      "outputs": [
        {
          "output_type": "stream",
          "name": "stdout",
          "text": [
            "The original string is : \n",
            " I love programming \n",
            "\n",
            "The left aligned string is : \n",
            "I love programming----------------------\n"
          ]
        }
      ]
    },
    {
      "cell_type": "code",
      "source": [
        "# the working of rjust()\n",
        "  \n",
        "rstr = \"I love Programming\"\n",
        "  \n",
        "# Printing the original string\n",
        "print (\"The original string is : \\n\", rstr, \"\\n\")\n",
        "  \n",
        "# Printing the right aligned string\n",
        "# with \"-\" padding \n",
        "print (\"The right aligned string is : \")\n",
        "print (rstr.rjust(40, '-'))"
      ],
      "metadata": {
        "colab": {
          "base_uri": "https://localhost:8080/"
        },
        "id": "ZbEB_7eF5uwa",
        "outputId": "06a1fa3f-6801-4c9f-9bf2-f94323c5ceba"
      },
      "execution_count": 21,
      "outputs": [
        {
          "output_type": "stream",
          "name": "stdout",
          "text": [
            "The original string is : \n",
            " I love Programming \n",
            "\n",
            "The right aligned string is : \n",
            "----------------------I love Programming\n"
          ]
        }
      ]
    },
    {
      "cell_type": "markdown",
      "source": [
        "10. What is the best way to remove whitespace characters from the start or end?"
      ],
      "metadata": {
        "id": "428h4HMo6B06"
      }
    },
    {
      "cell_type": "code",
      "source": [
        "greeting = \"     Hello!  \"\n",
        "\n",
        "print(greeting.strip(),\"What is your name?\")\n",
        "\n",
        "#output\n",
        "#Hello! How are you?"
      ],
      "metadata": {
        "colab": {
          "base_uri": "https://localhost:8080/"
        },
        "id": "VNqqcDOR58bt",
        "outputId": "7988aa83-af44-4a1b-c1cd-20d999bf13a8"
      },
      "execution_count": 22,
      "outputs": [
        {
          "output_type": "stream",
          "name": "stdout",
          "text": [
            "Hello! What is your name?\n"
          ]
        }
      ]
    }
  ]
}