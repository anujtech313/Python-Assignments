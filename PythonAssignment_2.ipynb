{
  "nbformat": 4,
  "nbformat_minor": 0,
  "metadata": {
    "colab": {
      "provenance": []
    },
    "kernelspec": {
      "name": "python3",
      "display_name": "Python 3"
    },
    "language_info": {
      "name": "python"
    }
  },
  "cells": [
    {
      "cell_type": "markdown",
      "source": [
        "1.What are the two values of the Boolean data type? How do you write them?"
      ],
      "metadata": {
        "id": "di4piWdMiqov"
      }
    },
    {
      "cell_type": "code",
      "source": [
        "\n",
        "# Two values of Boolean data type is true and false\n",
        "x = 6\n",
        "y = 7\n",
        "print(bool(x == y))\n",
        "u = 9\n",
        "v = 9\n",
        "print(bool(u==v))\n",
        "a = True\n",
        "type(a)\n",
        "b = False\n",
        "type(b)"
      ],
      "metadata": {
        "colab": {
          "base_uri": "https://localhost:8080/"
        },
        "id": "bhgiUhFOir2K",
        "outputId": "d27efed2-92c7-4ce4-8a71-699d011697b7"
      },
      "execution_count": 8,
      "outputs": [
        {
          "output_type": "stream",
          "name": "stdout",
          "text": [
            "False\n",
            "True\n"
          ]
        },
        {
          "output_type": "execute_result",
          "data": {
            "text/plain": [
              "bool"
            ]
          },
          "metadata": {},
          "execution_count": 8
        }
      ]
    },
    {
      "cell_type": "markdown",
      "source": [
        "2. What are the three different types of Boolean operators?"
      ],
      "metadata": {
        "id": "98hbVq6kj2VP"
      }
    },
    {
      "cell_type": "code",
      "source": [
        "#Three different types of boolean operators are And, Or, not\n",
        "#and operator\n",
        "a = 5\n",
        "b = 9\n",
        "a_b = a>4 and b < 10\n",
        "print(\"And operator is \", a_b)\n",
        "# Or operator\n",
        "u = 10\n",
        "v = 20\n",
        "u_v = u > 5 or v >25 # Returns True if any one of the operands is True\n",
        "print(\"Or operator is \", u_v)\n",
        "#not operator returns true if its operand is false and vice verca\n",
        "x = 30\n",
        "d = x > 30\n",
        "print(d)\n",
        "e = not(x>30)\n",
        "print(\"not operator is\", e)\n"
      ],
      "metadata": {
        "colab": {
          "base_uri": "https://localhost:8080/"
        },
        "id": "7JPCdkabjhxT",
        "outputId": "0d7691c9-90b2-41c1-9234-72916ba5b7cd"
      },
      "execution_count": 17,
      "outputs": [
        {
          "output_type": "stream",
          "name": "stdout",
          "text": [
            "And operator is  True\n",
            "Or operator is  True\n",
            "False\n",
            "not operator is True\n"
          ]
        }
      ]
    },
    {
      "cell_type": "markdown",
      "source": [
        "3.  Make a list of each Boolean operator&#39;s truth tables (i.e. every possible combination of Boolean\n",
        "values for the operator and what it evaluate ."
      ],
      "metadata": {
        "id": "rrc_PGNTqd-F"
      }
    },
    {
      "cell_type": "code",
      "source": [
        "# Three boolean operators and, or, not\n",
        "#And operator\n",
        "a = 10\n",
        "b = 20\n",
        "print(\"And operator result is true if both operand are true:\", a>5 and b <25)\n",
        "print(\"And operator result is false if one operand is true and the other is false:\",a > 5 and b > 25)\n",
        "print(\"And operator result is false if one operand is false and the other is true:\", a > 15 and b < 25)\n",
        "print(\"And operator returns false if both the operand are false:\", a > 15 and b > 25)\n",
        "\n",
        "#or operator\n",
        "x = 30\n",
        "y = 40\n",
        "print(\"Or operator returns true if both operand are true:\", x>15 or y > 35)\n",
        "print(\"Or operator returns true if any one operand is true: \", x>15 or y>40)\n",
        "print(\"Or operator returns true if any one operand is true:\", x>30 or y < 50)\n",
        "print(\"Or operator returns false if both operands are false:\", x>30 or y >40)\n",
        "\n",
        "#not operator\n",
        "e = 40\n",
        "f = 50\n",
        "print(\"not operator returns false if  expression is true:\", not(e < f))\n",
        "print(\"not operator returns true if expression is false:\", not(e > f))"
      ],
      "metadata": {
        "colab": {
          "base_uri": "https://localhost:8080/"
        },
        "id": "0G75ljW5qYq7",
        "outputId": "1ca43f18-00a4-4a50-90f9-0d405e3928aa"
      },
      "execution_count": 21,
      "outputs": [
        {
          "output_type": "stream",
          "name": "stdout",
          "text": [
            "And operator result is true if both operand are true: True\n",
            "And operator result is false if one operand is true and the other is false: False\n",
            "And operator result is false if one operand is false and the other is true: False\n",
            "And operator returns false if both the operand are false: False\n",
            "Or operator returns true if both operand are true: True\n",
            "Or operator returns true if any one operand is true:  True\n",
            "Or operator returns true if any one operand is true: True\n",
            "Or operator returns false if both operands are false: False\n",
            "not operator returns false if  expression is true: False\n",
            "not operator returns true if expression is false: True\n"
          ]
        }
      ]
    },
    {
      "cell_type": "markdown",
      "source": [
        "4. What are the values of the following expressions?\n",
        "(5 &gt; 4) and (3 == 5),\n",
        "not (5 &gt; 4),\n",
        "(5 &gt; 4) or (3 == 5),\n",
        "not ((5 &gt; 4) or (3 == 5)),\n",
        "(True and True) and (True == False),\n",
        "(not False) or (not True),"
      ],
      "metadata": {
        "id": "Yyg30yO__FHP"
      }
    },
    {
      "cell_type": "code",
      "source": [
        "a = (5 > 4) and (3 == 5) \n",
        "print(a)\n",
        "b = not(5>4)\n",
        "print(b)\n",
        "c =  (5 > 4) or (3 == 5)\n",
        "print(c) \n",
        "d =  not ((5 > 4) or (3 == 5))\n",
        "print(d)\n",
        "e = (True and True) and (True == False)\n",
        "print(e)\n",
        "f = (not False) or (not True)\n",
        "print(f)\n"
      ],
      "metadata": {
        "colab": {
          "base_uri": "https://localhost:8080/"
        },
        "id": "BXT1ngOmjfDz",
        "outputId": "c38c5df5-c0f6-4281-a1b6-0f01020c123d"
      },
      "execution_count": 30,
      "outputs": [
        {
          "output_type": "stream",
          "name": "stdout",
          "text": [
            "False\n",
            "False\n",
            "True\n",
            "False\n",
            "False\n",
            "True\n"
          ]
        }
      ]
    },
    {
      "cell_type": "markdown",
      "source": [
        "5. What are the six comparison operators?\n"
      ],
      "metadata": {
        "id": "zjxWQb7SEWuo"
      }
    },
    {
      "cell_type": "code",
      "source": [
        "# Six comparision operators are\n",
        "print(\"'>'greater than, returns true if left operand is greator than right operand,for example 5>3 is:\", 5>3)\n",
        "print(\"'<' less than, returns true if left operand is less than right operand, for example 3<5 is:\", 3<5)\n",
        "print(\"'==' equal to, returns true if both the operands have equal value, for example 3 ==5 is\", 3==5)\n",
        "print(\"'!=' not equal to, returns true if both opeands are not equal to each other, for example 3!=5, 3!=5\")\n",
        "print(\"'>=' greater than equal to, returns true if left operand is greater than or equal to right operand, for example 5>=3\", 5>=3)\n",
        "print(\"''<=' less than equal to, returns true if left operand is less than or equal to right, for example 3=3\", 3<=3)"
      ],
      "metadata": {
        "colab": {
          "base_uri": "https://localhost:8080/"
        },
        "id": "lOX3GKbpDGf_",
        "outputId": "1109efed-2c9b-499d-e1ba-28bc59006d0d"
      },
      "execution_count": 32,
      "outputs": [
        {
          "output_type": "stream",
          "name": "stdout",
          "text": [
            "'>'greater than, returns true if left operand is greator than right operand,for example 5>3 is: True\n",
            "'<' less than, returns true if left operand is less than right operand, for example 3<5 is: True\n",
            "'==' equal to, returns true if both the operands have equal value, for example 3 ==5 is False\n",
            "'!=' not equal to, returns true if both opeands are not equal to each other, for example 3!=5, 3!=5\n",
            "'>=' greater than equal to, returns true if left operand is greater than or equal to right operand, for example 5>=3 True\n",
            "''<=' less than equal to, returns true if left operand is less than or equal to right, for example 3=3 True\n"
          ]
        }
      ]
    },
    {
      "cell_type": "markdown",
      "source": [
        "6. How do you tell the difference between the equal to and assignment operators?Describe a\n",
        "condition and when you would use one."
      ],
      "metadata": {
        "id": "cDWUJCZRH3v7"
      }
    },
    {
      "cell_type": "code",
      "source": [
        "a = 9\n",
        "b = 10\n",
        "c = a = b\n",
        "print(\"Equal to operator assigns a value to a given variable, eg - a = a=b, will assign value of b to a, value of a is:\", c)\n",
        "print(\"assignment operator will check if the value of variable a is equal to value of variable b, value of a==b is:\", a==b)"
      ],
      "metadata": {
        "colab": {
          "base_uri": "https://localhost:8080/"
        },
        "id": "T3uAHYf9jNaa",
        "outputId": "20f19f37-873a-4ffd-e42e-e6502f94dfea"
      },
      "execution_count": 37,
      "outputs": [
        {
          "output_type": "stream",
          "name": "stdout",
          "text": [
            "Equal to operator assigns a value to a given variable, eg - a = a=b, will assign value of b to a, value of a is: 10\n",
            "assignment operator will check if the value of variable a is equal to value of variable b, value of a==b is: True\n"
          ]
        }
      ]
    },
    {
      "cell_type": "markdown",
      "source": [
        "\n"
      ],
      "metadata": {
        "id": "MPLnVznFTc6a"
      }
    },
    {
      "cell_type": "code",
      "source": [
        "#7. Identify the three blocks in this code:\n",
        "spam = 0\n",
        "# block 1\n",
        "if spam == 10: \n",
        "   print('eggs')\n",
        "# block 2\n",
        "if spam > 5:\n",
        "   print('bacon')\n",
        "# block 3 \n",
        "else:\n",
        "   print('ham') \n",
        "   print('spam')\n",
        "   print('spam')\n",
        "\n",
        "   "
      ],
      "metadata": {
        "colab": {
          "base_uri": "https://localhost:8080/"
        },
        "id": "v64VANMOS3A1",
        "outputId": "f9369ad7-e347-46c1-abc3-b9323442d7b2"
      },
      "execution_count": 38,
      "outputs": [
        {
          "output_type": "stream",
          "name": "stdout",
          "text": [
            "ham\n",
            "spam\n",
            "spam\n"
          ]
        }
      ]
    },
    {
      "cell_type": "markdown",
      "source": [
        "8. Write code that prints Hello if 1 is stored in spam, prints Howdy if 2 is stored in spam, and prints\n",
        "Greetings! if anything else is stored in spam."
      ],
      "metadata": {
        "id": "iqoHbO9SUNb8"
      }
    },
    {
      "cell_type": "code",
      "source": [
        "spam = 0\n",
        "if spam == 1:\n",
        "  print(\"Hello\")\n",
        "if spam == 2:\n",
        "  print(\"Howdy\")\n",
        "else:\n",
        "  print(\"Greetings\")"
      ],
      "metadata": {
        "colab": {
          "base_uri": "https://localhost:8080/"
        },
        "id": "j5NKxrMeUK9N",
        "outputId": "490216f3-6fc8-4680-b984-bddb44b5f5f4"
      },
      "execution_count": 39,
      "outputs": [
        {
          "output_type": "stream",
          "name": "stdout",
          "text": [
            "Greetings\n"
          ]
        }
      ]
    },
    {
      "cell_type": "markdown",
      "source": [
        "9.If your programme is stuck in an endless loop, what keys you’ll press?\n",
        "\n",
        "Answer - ctrl + c"
      ],
      "metadata": {
        "id": "7V3FTiKFU13M"
      }
    },
    {
      "cell_type": "markdown",
      "source": [
        "10. How can you tell the difference between break and continue?\n",
        "\n",
        "Answer - A python loop stops the loop in which the statement is placed. A python continue statement skips a single iteration in the loop"
      ],
      "metadata": {
        "id": "BnY-0v7SVACy"
      }
    },
    {
      "cell_type": "markdown",
      "source": [
        "11. In a for loop, what is the difference between range(10), range(0, 10), and range(0, 10, 1)?\n",
        "\n",
        "Answer range(10) will result form infinite to 10, range(0,10) will result in 0 to 10 whereas, range(0,10,1) will result from 0 to 10 with iterating 1 number at a time"
      ],
      "metadata": {
        "id": "XRw7_wVCWFUV"
      }
    },
    {
      "cell_type": "code",
      "source": [
        "count= 0\n",
        "a = (0 ,1 ,2,3,4,5,6,7,8,9,10)\n",
        "for i in range(10):\n",
        "  print(\"Hello\")\n",
        "  count += 1\n",
        "print(\"Count is:\",count)"
      ],
      "metadata": {
        "colab": {
          "base_uri": "https://localhost:8080/"
        },
        "id": "aiaqLgk-UvC8",
        "outputId": "007dec30-399d-4257-852f-acb383ef2cf6"
      },
      "execution_count": 48,
      "outputs": [
        {
          "output_type": "stream",
          "name": "stdout",
          "text": [
            "Hello\n",
            "Hello\n",
            "Hello\n",
            "Hello\n",
            "Hello\n",
            "Hello\n",
            "Hello\n",
            "Hello\n",
            "Hello\n",
            "Hello\n",
            "Count is: 10\n"
          ]
        }
      ]
    },
    {
      "cell_type": "code",
      "source": [
        "count= 0\n",
        "a = (0 ,1 ,2,3,4,5,6,7,8,9,10)\n",
        "for i in range(0,10):\n",
        "  print(\"Hello\")\n",
        "  count += 1\n",
        "print(\"Count is:\",count)"
      ],
      "metadata": {
        "colab": {
          "base_uri": "https://localhost:8080/"
        },
        "id": "WcojU6AkXDjb",
        "outputId": "4ee11820-e86b-4422-f72e-2b28e76e2be9"
      },
      "execution_count": 49,
      "outputs": [
        {
          "output_type": "stream",
          "name": "stdout",
          "text": [
            "Hello\n",
            "Hello\n",
            "Hello\n",
            "Hello\n",
            "Hello\n",
            "Hello\n",
            "Hello\n",
            "Hello\n",
            "Hello\n",
            "Hello\n",
            "Count is: 10\n"
          ]
        }
      ]
    },
    {
      "cell_type": "code",
      "source": [
        "count= 0\n",
        "a = (0 ,1 ,2,3,4,5,6,7,8,9,10)\n",
        "for i in range(1,10,1):\n",
        "  print(\"Hello\")\n",
        "  count += 1\n",
        "print(\"Count is:\",count)"
      ],
      "metadata": {
        "colab": {
          "base_uri": "https://localhost:8080/"
        },
        "id": "KkYd6xZ2XRZF",
        "outputId": "df7b4fd5-51b6-4fcf-ea08-654f55c5788a"
      },
      "execution_count": 50,
      "outputs": [
        {
          "output_type": "stream",
          "name": "stdout",
          "text": [
            "Hello\n",
            "Hello\n",
            "Hello\n",
            "Hello\n",
            "Hello\n",
            "Hello\n",
            "Hello\n",
            "Hello\n",
            "Hello\n",
            "Count is: 9\n"
          ]
        }
      ]
    },
    {
      "cell_type": "markdown",
      "source": [
        "12. Write a short program that prints the numbers 1 to 10 using a for loop. Then write an equivalent\n",
        "program that prints the numbers 1 to 10 using a while loop."
      ],
      "metadata": {
        "id": "N12PQVo2YWfl"
      }
    },
    {
      "cell_type": "code",
      "source": [
        "count= 0\n",
        "\n",
        "for i in range(11):\n",
        "  print(i)\n",
        "  count += 1\n",
        "print(\"Count is:\",count)"
      ],
      "metadata": {
        "colab": {
          "base_uri": "https://localhost:8080/"
        },
        "id": "qhzM_ZwHYd8Y",
        "outputId": "31c24926-618b-4b9d-e4d3-9b9dd1343a90"
      },
      "execution_count": 66,
      "outputs": [
        {
          "output_type": "stream",
          "name": "stdout",
          "text": [
            "0\n",
            "1\n",
            "2\n",
            "3\n",
            "4\n",
            "5\n",
            "6\n",
            "7\n",
            "8\n",
            "9\n",
            "10\n",
            "Count is: 11\n"
          ]
        }
      ]
    },
    {
      "cell_type": "code",
      "source": [
        "i = 1\n",
        "while i < 11:\n",
        "  print(i)\n",
        "  i += 1"
      ],
      "metadata": {
        "colab": {
          "base_uri": "https://localhost:8080/"
        },
        "id": "2w1cuDxeaVlO",
        "outputId": "f0430a07-2bd3-44ad-a327-39e2f5c35f58"
      },
      "execution_count": 62,
      "outputs": [
        {
          "output_type": "stream",
          "name": "stdout",
          "text": [
            "1\n",
            "2\n",
            "3\n",
            "4\n",
            "5\n",
            "6\n",
            "7\n",
            "8\n",
            "9\n",
            "10\n"
          ]
        }
      ]
    },
    {
      "cell_type": "markdown",
      "source": [
        "13. If you had a function named bacon() inside a module named spam, how would you call it after\n",
        "importing spam?\n",
        "\n",
        "Answer - from spam import bacon"
      ],
      "metadata": {
        "id": "I_BmFEBqbQnw"
      }
    }
  ]
}