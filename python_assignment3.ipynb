{
  "nbformat": 4,
  "nbformat_minor": 0,
  "metadata": {
    "colab": {
      "provenance": []
    },
    "kernelspec": {
      "name": "python3",
      "display_name": "Python 3"
    },
    "language_info": {
      "name": "python"
    }
  },
  "cells": [
    {
      "cell_type": "code",
      "execution_count": 1,
      "metadata": {
        "id": "PXT6APCejuz6"
      },
      "outputs": [],
      "source": [
        "#1. Why are functions advantageous to have in your programs?\n",
        "# Answer - Function helps us to write clean code in a modular fashion. It helps us to create a reusability of a particular code, rather than calling it multiple number of times in a program "
      ]
    },
    {
      "cell_type": "code",
      "source": [
        "#2. When does the code in a function run: when it's specified or when it's called?\n",
        "#Answer- When its called, A function is created once and it runs when the function is called in a program"
      ],
      "metadata": {
        "id": "XYMFD01ukwM3"
      },
      "execution_count": 2,
      "outputs": []
    },
    {
      "cell_type": "code",
      "source": [
        "# 3.What statement creates a function?\n",
        "#Answer- def keyword followed by function name and ():  def():"
      ],
      "metadata": {
        "id": "WN1xiJ4QlDdp"
      },
      "execution_count": 3,
      "outputs": []
    },
    {
      "cell_type": "code",
      "source": [
        "# 4. What is the difference between a function and a function call?\n",
        "# Answer - A function is used to create a function that specifies a particular action to perform in that function. A function call is used to call that function. Function call usually has some parameters"
      ],
      "metadata": {
        "id": "TJB6bY6_lyAl"
      },
      "execution_count": 4,
      "outputs": []
    },
    {
      "cell_type": "code",
      "source": [
        "# 5. How many global scopes are there in a Python program? How many local scopes?\n",
        "#Answer - Local (or function) scope is the code block or body of any Python function.\n",
        "#This Python scope contains the names that you define inside the function. These names will only be visible from the code of the function.\n",
        "# It’s created at function call, not at function definition, so you’ll have as many different local scopes as function calls. \n",
        "#This is true even if you call the same function multiple times, or recursively. Each call will result in a new local scope being created.\n",
        "#Global scope -  is the top-most scope in a Python program, script,\n",
        "# or module. This Python scope contains all of the names that you define at the top level of a program or a module. Names in this Python scope are visible from everywhere in your code."
      ],
      "metadata": {
        "id": "pMhUSTPHmj5L"
      },
      "execution_count": 5,
      "outputs": []
    },
    {
      "cell_type": "code",
      "source": [
        "# 6. What happens to variables in a local scope when the function call returns?\n",
        "# Answer - A local variable retains its value until the next time the function is called. A local variable becomes undefined after the function call completes"
      ],
      "metadata": {
        "id": "yD5WZdUws41s"
      },
      "execution_count": null,
      "outputs": []
    },
    {
      "cell_type": "code",
      "source": [
        "# 7. What is the concept of a return value? Is it possible to have a return value in an expression?\n",
        "# Answer- The return statement returns the value of the function back to the caller. Its not possible to have a return value in an expression. Its always called at the end of the function,"
      ],
      "metadata": {
        "id": "Nm6h7NHesG8F"
      },
      "execution_count": 6,
      "outputs": []
    },
    {
      "cell_type": "code",
      "source": [
        "# 8. If a function does not have a return statement, what is the return value of a call to that function?\n",
        "# Answer - If a function do not have a return statement. The return value of the call is none"
      ],
      "metadata": {
        "id": "oiLt5XO1vZ7D"
      },
      "execution_count": 7,
      "outputs": []
    },
    {
      "cell_type": "code",
      "source": [
        "# 9. How do you make a function variable refer to the global variable?"
      ],
      "metadata": {
        "id": "bc75mwYWwBrq"
      },
      "execution_count": null,
      "outputs": []
    },
    {
      "cell_type": "code",
      "source": [
        "def myfunc():\n",
        "  global x\n",
        "  x = \"amazing\"\n",
        "\n",
        "myfunc()\n",
        "\n",
        "print(\"Python is \" + x)"
      ],
      "metadata": {
        "colab": {
          "base_uri": "https://localhost:8080/"
        },
        "id": "4kTZNuxf17AE",
        "outputId": "8552b54a-4f1c-4ed1-8523-43e898142d33"
      },
      "execution_count": 11,
      "outputs": [
        {
          "output_type": "stream",
          "name": "stdout",
          "text": [
            "Python is amazing\n"
          ]
        }
      ]
    },
    {
      "cell_type": "code",
      "source": [
        "# 10. What is the data type of None?\n",
        "# Null value is used to define a null value. It is not same as empty string,false or zero. It is the datatype of class none type object"
      ],
      "metadata": {
        "id": "RaFqHzk3xYdZ"
      },
      "execution_count": 8,
      "outputs": []
    },
    {
      "cell_type": "code",
      "source": [
        "# 11. What does the sentence import areallyourpetsnamederic do?\n",
        "# This sentence will import a code from module areallyourpetsnamederic and make available to use. This will help us to write efficient code"
      ],
      "metadata": {
        "id": "vCGt1excx0fL"
      },
      "execution_count": 9,
      "outputs": []
    },
    {
      "cell_type": "code",
      "source": [
        "# 12. If you had a bacon() feature in a spam module, what would you call it after importing spam?\n",
        "# from spam import bacon"
      ],
      "metadata": {
        "id": "Tb93v281y5Ta"
      },
      "execution_count": 10,
      "outputs": []
    },
    {
      "cell_type": "code",
      "source": [
        "# 13.What can you do to save a programme from crashing if it encounters an error?\n",
        "#We use the try and except statements to handle exceptions. Whenever the code breaks down, an exception is thrown without crashing the program. \n",
        "# Python would process all code inside the try and except statement. When it encounters an error, the control is passed to the except block, skipping the code in between."
      ],
      "metadata": {
        "id": "8FY8yBwG0tMM"
      },
      "execution_count": null,
      "outputs": []
    },
    {
      "cell_type": "code",
      "source": [
        "# What is the purpose of the try clause? What is the purpose of the except clause?\n",
        "# The try block lets you to test a block of code for errors. The except block lets you handle the error."
      ],
      "metadata": {
        "id": "D_uSPE8W1Q36"
      },
      "execution_count": null,
      "outputs": []
    }
  ]
}