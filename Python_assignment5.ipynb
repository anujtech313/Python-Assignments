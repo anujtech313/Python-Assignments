{
  "nbformat": 4,
  "nbformat_minor": 0,
  "metadata": {
    "colab": {
      "provenance": []
    },
    "kernelspec": {
      "name": "python3",
      "display_name": "Python 3"
    },
    "language_info": {
      "name": "python"
    }
  },
  "cells": [
    {
      "cell_type": "code",
      "execution_count": 1,
      "metadata": {
        "colab": {
          "base_uri": "https://localhost:8080/"
        },
        "id": "psVkk_NgmcfY",
        "outputId": "e43a6575-1ba8-4287-debb-1444056ab2fe"
      },
      "outputs": [
        {
          "output_type": "stream",
          "name": "stdout",
          "text": [
            "length of empty dictionary 0\n",
            "<class 'dict'>\n"
          ]
        }
      ],
      "source": [
        "# 1. What does an empty dictionary's code look like?\n",
        "\n",
        "emptydict = {}\n",
        "\n",
        "print(\"length of empty dictionary\", len(emptydict))\n",
        "\n",
        "print(type(emptydict))"
      ]
    },
    {
      "cell_type": "markdown",
      "source": [
        " 2. What is the value of a dictionary value with the key &#39;foo&#39; and the value 42?"
      ],
      "metadata": {
        "id": "qoiP2D2anT-E"
      }
    },
    {
      "cell_type": "code",
      "source": [
        "dict = {'foo':42}\n",
        "print(dict)"
      ],
      "metadata": {
        "colab": {
          "base_uri": "https://localhost:8080/"
        },
        "id": "67GmuT7_nHv1",
        "outputId": "66466897-f1d1-4a7e-f726-00a0a46da34b"
      },
      "execution_count": 6,
      "outputs": [
        {
          "output_type": "stream",
          "name": "stdout",
          "text": [
            "{'foo': 42}\n"
          ]
        }
      ]
    },
    {
      "cell_type": "markdown",
      "source": [
        "3. What is the most significant distinction between a dictionary and a list?"
      ],
      "metadata": {
        "id": "KKNCpACinpPJ"
      }
    },
    {
      "cell_type": "code",
      "source": [
        "print(\" A list is stored in a form of order list whereas dictionaries are unordered and values in dictionary are stored in a key value format. It means value can be accessed via keys in dictionary and not as iteration as in the case of  list\")"
      ],
      "metadata": {
        "colab": {
          "base_uri": "https://localhost:8080/"
        },
        "id": "xXjNeH_1nkNQ",
        "outputId": "4b27afbf-25c5-465f-fa03-712a31a54f90"
      },
      "execution_count": 5,
      "outputs": [
        {
          "output_type": "stream",
          "name": "stdout",
          "text": [
            " A list is stored in a form of order list whereas dictionaries are unordered and values in dictionary are stored in a key value format. It means value can be accessed via keys in dictionary and not as iteration as in the case of  list\n"
          ]
        }
      ]
    },
    {
      "cell_type": "markdown",
      "source": [
        "4. What happens if you try to access spam[&#39;foo&#39;] if spam is {&#39;bar&#39;: 100}?"
      ],
      "metadata": {
        "id": "pYNiEtzKpL5b"
      }
    },
    {
      "cell_type": "code",
      "source": [
        "dict1 = {'bar':100}\n",
        "print(dict1['bar'])\n",
        "print(\"This is what happens when you try to access 'foo' in dict1:\", dict1['foo'])\n",
        "\n"
      ],
      "metadata": {
        "colab": {
          "base_uri": "https://localhost:8080/",
          "height": 235
        },
        "id": "0tIC5I25o9u9",
        "outputId": "c155732e-a3d1-47d9-80d7-bcbdd05c5871"
      },
      "execution_count": 8,
      "outputs": [
        {
          "output_type": "stream",
          "name": "stdout",
          "text": [
            "100\n"
          ]
        },
        {
          "output_type": "error",
          "ename": "KeyError",
          "evalue": "ignored",
          "traceback": [
            "\u001b[0;31m---------------------------------------------------------------------------\u001b[0m",
            "\u001b[0;31mKeyError\u001b[0m                                  Traceback (most recent call last)",
            "\u001b[0;32m<ipython-input-8-a3b22cc87c4e>\u001b[0m in \u001b[0;36m<module>\u001b[0;34m\u001b[0m\n\u001b[1;32m      1\u001b[0m \u001b[0mdict1\u001b[0m \u001b[0;34m=\u001b[0m \u001b[0;34m{\u001b[0m\u001b[0;34m'bar'\u001b[0m\u001b[0;34m:\u001b[0m\u001b[0;36m100\u001b[0m\u001b[0;34m}\u001b[0m\u001b[0;34m\u001b[0m\u001b[0;34m\u001b[0m\u001b[0m\n\u001b[1;32m      2\u001b[0m \u001b[0mprint\u001b[0m\u001b[0;34m(\u001b[0m\u001b[0mdict1\u001b[0m\u001b[0;34m[\u001b[0m\u001b[0;34m'bar'\u001b[0m\u001b[0;34m]\u001b[0m\u001b[0;34m)\u001b[0m\u001b[0;34m\u001b[0m\u001b[0;34m\u001b[0m\u001b[0m\n\u001b[0;32m----> 3\u001b[0;31m \u001b[0mprint\u001b[0m\u001b[0;34m(\u001b[0m\u001b[0;34m\"This is what happens when you try to access 'foo' in dict1:\"\u001b[0m\u001b[0;34m,\u001b[0m \u001b[0mdict1\u001b[0m\u001b[0;34m[\u001b[0m\u001b[0;34m'foo'\u001b[0m\u001b[0;34m]\u001b[0m\u001b[0;34m)\u001b[0m\u001b[0;34m\u001b[0m\u001b[0;34m\u001b[0m\u001b[0m\n\u001b[0m\u001b[1;32m      4\u001b[0m \u001b[0;34m\u001b[0m\u001b[0m\n",
            "\u001b[0;31mKeyError\u001b[0m: 'foo'"
          ]
        }
      ]
    },
    {
      "cell_type": "markdown",
      "source": [
        "5. If a dictionary is stored in spam, what is the difference between the expressions &#39;cat&#39; in spam and\n",
        "&#39;cat&#39; in spam.keys()?"
      ],
      "metadata": {
        "id": "CggWKPdOqDdr"
      }
    },
    {
      "cell_type": "code",
      "source": [
        "print(\"There is no difference, the expression  'cat' in spam  checks whether 'cat' is a key in spam\")"
      ],
      "metadata": {
        "colab": {
          "base_uri": "https://localhost:8080/"
        },
        "id": "U6FVpD9KqBpP",
        "outputId": "205930f6-3c21-4d83-ad73-bd68c8df41d8"
      },
      "execution_count": 12,
      "outputs": [
        {
          "output_type": "stream",
          "name": "stdout",
          "text": [
            "There is no difference, the expression  'cat' in spam  checks whether 'cat' is a key in spam\n"
          ]
        }
      ]
    },
    {
      "cell_type": "markdown",
      "source": [
        "6. If a dictionary is stored in spam, what is the difference between the expressions &#39;cat&#39; in spam and\n",
        "&#39;cat&#39; in spam.values()?"
      ],
      "metadata": {
        "id": "IUKR4Uh4rub8"
      }
    },
    {
      "cell_type": "code",
      "source": [
        "print(\"'cat' in spam checks whether'cat' exists as a key in spam. 'cat' in spam.values() checks whether 'cat' is a value in spam.\")"
      ],
      "metadata": {
        "colab": {
          "base_uri": "https://localhost:8080/"
        },
        "id": "N8xP5-Zjp0sv",
        "outputId": "5783c4a3-57c2-432e-dc72-3e987ca7411f"
      },
      "execution_count": 13,
      "outputs": [
        {
          "output_type": "stream",
          "name": "stdout",
          "text": [
            "'cat' in spam checks whether'cat' exists as a key in spam. 'cat' in spam.values() checks whether 'cat' is a value in spam.\n"
          ]
        }
      ]
    },
    {
      "cell_type": "markdown",
      "source": [
        "7. What is a shortcut for the following code?\n",
        "if &#39;color&#39; not in spam:\n",
        "spam[&#39;color&#39;] = &#39;black&#39;\n",
        "\n",
        "\n",
        "Answer -   \"if 'color' not in spam:\n",
        "    spam['color'] = 'black'\n",
        "\n",
        "spam.setdefault('color','black')"
      ],
      "metadata": {
        "id": "HVfGiTiysPvk"
      }
    },
    {
      "cell_type": "markdown",
      "source": [
        "8. How do you &quot;pretty print&quot; dictionary values using which module and function?\n",
        "\n",
        "Answer - \n",
        "The module is pprint.\n",
        "The functions are pprint.pprint() and pprint.pformat()."
      ],
      "metadata": {
        "id": "xuS6LVeitOPX"
      }
    },
    {
      "cell_type": "code",
      "source": [],
      "metadata": {
        "id": "5T3HqNO4sJNO"
      },
      "execution_count": null,
      "outputs": []
    }
  ]
}